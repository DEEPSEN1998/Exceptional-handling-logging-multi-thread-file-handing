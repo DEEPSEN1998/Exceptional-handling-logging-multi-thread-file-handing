{
 "cells": [
  {
   "cell_type": "markdown",
   "id": "fe1f5f7b",
   "metadata": {},
   "source": [
    "# Assignment: Files, Exception Handling, Logging, and Memory Management"
   ]
  },
  {
   "cell_type": "markdown",
   "id": "41419f4c",
   "metadata": {},
   "source": [
    "### What is the difference between interpreted and compiled languages?\n",
    "\n",
    "Interpreted languages execute code line-by-line using an interpreter (e.g., Python), whereas compiled languages translate code into machine code before execution (e.g., C++). Interpreted languages are more flexible, but compiled languages are faster."
   ]
  },
  {
   "cell_type": "markdown",
   "id": "320aaac5",
   "metadata": {},
   "source": [
    "### What is exception handling in Python?\n",
    "\n",
    "Exception handling in Python allows programs to handle runtime errors using constructs like try, except, else, and finally."
   ]
  },
  {
   "cell_type": "markdown",
   "id": "5965cf37",
   "metadata": {},
   "source": [
    "### What is the purpose of the finally block in exception handling?\n",
    "\n",
    "The finally block executes cleanup code regardless of whether an exception occurred."
   ]
  },
  {
   "cell_type": "markdown",
   "id": "1c0d0aca",
   "metadata": {},
   "source": [
    "### What is logging in Python?\n",
    "\n",
    "Logging in Python provides a way to track events during program execution, helping in debugging and monitoring."
   ]
  },
  {
   "cell_type": "markdown",
   "id": "9b68c44d",
   "metadata": {},
   "source": [
    "### What is the significance of the __del__ method in Python?\n",
    "\n",
    "The `__del__` method is a destructor called when an object is deleted, used for resource cleanup."
   ]
  },
  {
   "cell_type": "markdown",
   "id": "8bbb169a",
   "metadata": {},
   "source": [
    "### What is the difference between import and from ... import in Python?\n",
    "\n",
    "`import` loads the entire module, while `from ... import` loads specific components of a module."
   ]
  },
  {
   "cell_type": "markdown",
   "id": "b6d60028",
   "metadata": {},
   "source": [
    "### How can you handle multiple exceptions in Python?\n",
    "\n",
    "Use multiple except blocks or handle a tuple of exceptions in a single except block (e.g., `except (TypeError, ValueError):`)."
   ]
  },
  {
   "cell_type": "markdown",
   "id": "bcea77a6",
   "metadata": {},
   "source": [
    "### What is the purpose of the with statement when handling files in Python?\n",
    "\n",
    "The `with` statement ensures that files are properly closed after their block is executed, even in case of an error."
   ]
  },
  {
   "cell_type": "markdown",
   "id": "ee30a4ed",
   "metadata": {},
   "source": [
    "### What is the difference between multithreading and multiprocessing?\n",
    "\n",
    "Multithreading runs multiple threads within the same process, while multiprocessing runs separate processes, utilizing multiple CPU cores."
   ]
  },
  {
   "cell_type": "markdown",
   "id": "bbd43678",
   "metadata": {},
   "source": [
    "### What are the advantages of using logging in a program?\n",
    "\n",
    "Logging helps in debugging, monitoring, performance tracking, and error reporting."
   ]
  },
  {
   "cell_type": "markdown",
   "id": "23468f5b",
   "metadata": {},
   "source": [
    "### What is memory management in Python?\n",
    "\n",
    "Memory management in Python is handled automatically via reference counting and garbage collection."
   ]
  },
  {
   "cell_type": "markdown",
   "id": "693d2bbe",
   "metadata": {},
   "source": [
    "### What are the basic steps involved in exception handling in Python?\n",
    "\n",
    "1. Use `try` to enclose code that might cause an exception.\n",
    "2. Use `except` to handle the exception.\n",
    "3. Optionally use `else` for code that runs if no exception occurs.\n",
    "4. Use `finally` for cleanup actions."
   ]
  },
  {
   "cell_type": "markdown",
   "id": "cda603ca",
   "metadata": {},
   "source": [
    "### Why is memory management important in Python?\n",
    "\n",
    "Efficient memory management prevents memory leaks, ensures optimal performance, and manages resources effectively."
   ]
  },
  {
   "cell_type": "markdown",
   "id": "c8b3356e",
   "metadata": {},
   "source": [
    "### What is the role of try and except in exception handling?\n",
    "\n",
    "The `try` block contains code to monitor for exceptions, while the `except` block handles specific exceptions."
   ]
  },
  {
   "cell_type": "markdown",
   "id": "5ca2a6e3",
   "metadata": {},
   "source": [
    "### How does Python's garbage collection system work?\n",
    "\n",
    "Python uses reference counting and a cyclic garbage collector to reclaim memory from objects no longer in use."
   ]
  },
  {
   "cell_type": "markdown",
   "id": "a7b0c14e",
   "metadata": {},
   "source": [
    "### What is the purpose of the else block in exception handling?\n",
    "\n",
    "The `else` block runs code if no exceptions occur in the `try` block."
   ]
  },
  {
   "cell_type": "markdown",
   "id": "9a604e6b",
   "metadata": {},
   "source": [
    "### What are the common logging levels in Python?\n",
    "\n",
    "DEBUG, INFO, WARNING, ERROR, and CRITICAL are the common logging levels."
   ]
  },
  {
   "cell_type": "markdown",
   "id": "7b86171b",
   "metadata": {},
   "source": [
    "### What is the difference between os.fork() and multiprocessing in Python?\n",
    "\n",
    "`os.fork()` creates a child process on Unix systems, while multiprocessing provides a cross-platform API for creating processes."
   ]
  },
  {
   "cell_type": "markdown",
   "id": "39153a24",
   "metadata": {},
   "source": [
    "### What is the importance of closing a file in Python?\n",
    "\n",
    "Closing a file ensures resources are freed and data is written to disk."
   ]
  },
  {
   "cell_type": "markdown",
   "id": "18ee5def",
   "metadata": {},
   "source": [
    "### What is the difference between file.read() and file.readline() in Python?\n",
    "\n",
    "`file.read()` reads the entire file or a specified number of bytes, while `file.readline()` reads one line at a time."
   ]
  },
  {
   "cell_type": "markdown",
   "id": "9295cefe",
   "metadata": {},
   "source": [
    "### What is the logging module in Python used for?\n",
    "\n",
    "The logging module is used to log messages for debugging, monitoring, and error tracking."
   ]
  },
  {
   "cell_type": "markdown",
   "id": "7e44d5af",
   "metadata": {},
   "source": [
    "### What is the os module in Python used for in file handling?\n",
    "\n",
    "The `os` module provides functions to interact with the file system, such as creating, deleting, or checking files."
   ]
  },
  {
   "cell_type": "markdown",
   "id": "5c9b8caf",
   "metadata": {},
   "source": [
    "### What are the challenges associated with memory management in Python?\n",
    "\n",
    "Challenges include handling circular references, optimizing performance, and managing large datasets efficiently."
   ]
  },
  {
   "cell_type": "markdown",
   "id": "9fbbd573",
   "metadata": {},
   "source": [
    "### How do you raise an exception manually in Python?\n",
    "\n",
    "Use the `raise` keyword, e.g., `raise ValueError('Invalid input')`."
   ]
  },
  {
   "cell_type": "markdown",
   "id": "1fe1f2c2",
   "metadata": {},
   "source": [
    "### Why is it important to use multithreading in certain applications?\n",
    "\n",
    "Multithreading improves responsiveness and allows I/O-bound tasks to run concurrently."
   ]
  },
  {
   "cell_type": "markdown",
   "id": "481a5239",
   "metadata": {},
   "source": [
    "### How can you open a file for writing in Python and write a string to it?"
   ]
  },
  {
   "cell_type": "code",
   "execution_count": null,
   "id": "cc10ae83",
   "metadata": {},
   "outputs": [],
   "source": [
    "with open(\"example.txt\", \"w\") as file:\n",
    "    file.write(\"Hello, World!\")"
   ]
  },
  {
   "cell_type": "markdown",
   "id": "9846e503",
   "metadata": {},
   "source": [
    "### Write a Python program to read the contents of a file and print each line."
   ]
  },
  {
   "cell_type": "code",
   "execution_count": null,
   "id": "29c9bb59",
   "metadata": {},
   "outputs": [],
   "source": [
    "with open(\"example.txt\", \"r\") as file:\n",
    "    for line in file:\n",
    "        print(line.strip())"
   ]
  },
  {
   "cell_type": "markdown",
   "id": "c5f7aea2",
   "metadata": {},
   "source": [
    "### How would you handle a case where the file doesn't exist while trying to open it for reading?"
   ]
  },
  {
   "cell_type": "code",
   "execution_count": null,
   "id": "409c43bf",
   "metadata": {},
   "outputs": [],
   "source": [
    "try:\n",
    "    with open(\"nonexistent.txt\", \"r\") as file:\n",
    "        print(file.read())\n",
    "except FileNotFoundError:\n",
    "    print(\"File not found.\")"
   ]
  },
  {
   "cell_type": "markdown",
   "id": "0c9925f6",
   "metadata": {},
   "source": [
    "### Write a Python script that reads from one file and writes its content to another file."
   ]
  },
  {
   "cell_type": "code",
   "execution_count": null,
   "id": "39a158d0",
   "metadata": {},
   "outputs": [],
   "source": [
    "with open(\"source.txt\", \"r\") as src:\n",
    "    content = src.read()\n",
    "\n",
    "with open(\"destination.txt\", \"w\") as dest:\n",
    "    dest.write(content)"
   ]
  },
  {
   "cell_type": "markdown",
   "id": "dd43d0d4",
   "metadata": {},
   "source": [
    "### How would you catch and handle division by zero error in Python?"
   ]
  },
  {
   "cell_type": "code",
   "execution_count": null,
   "id": "6171efe1",
   "metadata": {},
   "outputs": [],
   "source": [
    "try:\n",
    "    result = 10 / 0\n",
    "except ZeroDivisionError:\n",
    "    print(\"Cannot divide by zero.\")"
   ]
  },
  {
   "cell_type": "markdown",
   "id": "c2ba2f33",
   "metadata": {},
   "source": [
    "### Write a Python program that logs an error message to a log file when a division by zero exception occurs."
   ]
  },
  {
   "cell_type": "code",
   "execution_count": null,
   "id": "0f47cda1",
   "metadata": {},
   "outputs": [],
   "source": [
    "import logging\n",
    "logging.basicConfig(filename='error.log', level=logging.ERROR)\n",
    "\n",
    "try:\n",
    "    result = 10 / 0\n",
    "except ZeroDivisionError as e:\n",
    "    logging.error(f\"Error occurred: {e}\")"
   ]
  }
 ],
 "metadata": {},
 "nbformat": 4,
 "nbformat_minor": 5
}